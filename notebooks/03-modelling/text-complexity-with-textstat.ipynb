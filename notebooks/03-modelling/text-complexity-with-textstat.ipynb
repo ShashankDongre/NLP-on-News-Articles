{
 "cells": [
  {
   "cell_type": "markdown",
   "id": "2fb17381",
   "metadata": {},
   "source": [
    "# Text Complexity with *textstat*"
   ]
  },
  {
   "cell_type": "markdown",
   "id": "0be16457",
   "metadata": {},
   "source": [
    "Textstat is a Python library that is used to determine the complexity of a given text. \n",
    "\n",
    "It provides various measures of complexity, including the Flesch Reading Ease Score, the Flesch-Kincaid Grade Level, and the Automated Readability Index. \n",
    "\n",
    "These measures can be used to assess the readability of a text and help determine the appropriate audience for a given piece of content. \n",
    "\n",
    "Textstat also provides other useful metrics such as the number of words, sentences, and syllables in a text, as well as the average length of words and sentences. \n",
    "\n",
    "With Textstat, it is easy to analyze the complexity of a text and make informed decisions about its readability."
   ]
  },
  {
   "cell_type": "code",
   "execution_count": 53,
   "id": "ebd6cee2",
   "metadata": {},
   "outputs": [],
   "source": [
    "import textstat\n",
    "import pandas as pd"
   ]
  },
  {
   "cell_type": "code",
   "execution_count": 54,
   "id": "af98c8e4",
   "metadata": {},
   "outputs": [],
   "source": [
    "test_data = (\n",
    "    \"Playing games has always been thought to be important to \"\n",
    "    \"the development of well-balanced and creative children; \"\n",
    "    \"however, what part, if any, they should play in the lives \"\n",
    "    \"of adults has never been researched that deeply. I believe \"\n",
    "    \"that playing games is every bit as important for adults \"\n",
    "    \"as for children. Not only is taking time out to play games \"\n",
    "    \"with our children and other adults valuable to building \"\n",
    "    \"interpersonal relationships but is also a wonderful way \"\n",
    "    \"to release built up tension.\")"
   ]
  },
  {
   "cell_type": "code",
   "execution_count": 55,
   "id": "e52eee74",
   "metadata": {},
   "outputs": [
    {
     "data": {
      "text/plain": [
       "52.23"
      ]
     },
     "execution_count": 55,
     "metadata": {},
     "output_type": "execute_result"
    }
   ],
   "source": [
    "textstat.flesch_reading_ease(test_data)\n"
   ]
  },
  {
   "cell_type": "code",
   "execution_count": 56,
   "id": "48915964",
   "metadata": {},
   "outputs": [
    {
     "data": {
      "text/plain": [
       "12.8"
      ]
     },
     "execution_count": 56,
     "metadata": {},
     "output_type": "execute_result"
    }
   ],
   "source": [
    "textstat.flesch_kincaid_grade(test_data)"
   ]
  },
  {
   "cell_type": "code",
   "execution_count": 57,
   "id": "c5555c95",
   "metadata": {},
   "outputs": [
    {
     "data": {
      "text/plain": [
       "12.38"
      ]
     },
     "execution_count": 57,
     "metadata": {},
     "output_type": "execute_result"
    }
   ],
   "source": [
    "textstat.gunning_fog(test_data)"
   ]
  },
  {
   "cell_type": "code",
   "execution_count": 58,
   "id": "6e8b596c",
   "metadata": {},
   "outputs": [
    {
     "data": {
      "text/plain": [
       "12.5"
      ]
     },
     "execution_count": 58,
     "metadata": {},
     "output_type": "execute_result"
    }
   ],
   "source": [
    "textstat.smog_index(test_data) # do it on text with more than 30 sentences"
   ]
  },
  {
   "cell_type": "code",
   "execution_count": 59,
   "id": "1c2f2acc",
   "metadata": {},
   "outputs": [
    {
     "data": {
      "text/plain": [
       "7.3"
      ]
     },
     "execution_count": 59,
     "metadata": {},
     "output_type": "execute_result"
    }
   ],
   "source": [
    "textstat.dale_chall_readability_score(test_data)"
   ]
  },
  {
   "cell_type": "code",
   "execution_count": 60,
   "id": "b6b11906",
   "metadata": {},
   "outputs": [
    {
     "data": {
      "text/plain": [
       "'12th and 13th grade'"
      ]
     },
     "execution_count": 60,
     "metadata": {},
     "output_type": "execute_result"
    }
   ],
   "source": [
    "textstat.text_standard(test_data, float_output=False)"
   ]
  },
  {
   "cell_type": "markdown",
   "id": "7f126241",
   "metadata": {},
   "source": [
    "## Implementing text complexity for our dataset"
   ]
  },
  {
   "cell_type": "code",
   "execution_count": 61,
   "id": "4bc3101a",
   "metadata": {},
   "outputs": [
    {
     "data": {
      "text/html": [
       "<div>\n",
       "<style scoped>\n",
       "    .dataframe tbody tr th:only-of-type {\n",
       "        vertical-align: middle;\n",
       "    }\n",
       "\n",
       "    .dataframe tbody tr th {\n",
       "        vertical-align: top;\n",
       "    }\n",
       "\n",
       "    .dataframe thead th {\n",
       "        text-align: right;\n",
       "    }\n",
       "</style>\n",
       "<table border=\"1\" class=\"dataframe\">\n",
       "  <thead>\n",
       "    <tr style=\"text-align: right;\">\n",
       "      <th></th>\n",
       "      <th>Title</th>\n",
       "      <th>Content</th>\n",
       "    </tr>\n",
       "  </thead>\n",
       "  <tbody>\n",
       "    <tr>\n",
       "      <th>0</th>\n",
       "      <td>\\n      Russia’s shadowy energy trade is raisi...</td>\n",
       "      <td>The waters of the Bay of Lakonikos, on the sou...</td>\n",
       "    </tr>\n",
       "    <tr>\n",
       "      <th>1</th>\n",
       "      <td>\\n      China makes major push in its ambitiou...</td>\n",
       "      <td>Public sector workers in an eastern Chinese ci...</td>\n",
       "    </tr>\n",
       "    <tr>\n",
       "      <th>2</th>\n",
       "      <td>\\n      ‘Too good to be true?’ As Shein and Te...</td>\n",
       "      <td>Temu and Shein are taking off in the United St...</td>\n",
       "    </tr>\n",
       "    <tr>\n",
       "      <th>3</th>\n",
       "      <td>\\n      NBCUniversal CEO stepping down over ‘i...</td>\n",
       "      <td>NBCUniversal CEO Jeff Shell is leaving the com...</td>\n",
       "    </tr>\n",
       "    <tr>\n",
       "      <th>4</th>\n",
       "      <td>\\n      What happens to buybuy BABY with Bed B...</td>\n",
       "      <td>America’s leading specialty baby products reta...</td>\n",
       "    </tr>\n",
       "    <tr>\n",
       "      <th>...</th>\n",
       "      <td>...</td>\n",
       "      <td>...</td>\n",
       "    </tr>\n",
       "    <tr>\n",
       "      <th>1244</th>\n",
       "      <td>Massachusetts town says Avian Flu detected amo...</td>\n",
       "      <td>Fox News Flash top headlines are here. Check o...</td>\n",
       "    </tr>\n",
       "    <tr>\n",
       "      <th>1245</th>\n",
       "      <td>The world lost faith in childhood vaccines dur...</td>\n",
       "      <td>Fox News Flash top headlines are here. Check o...</td>\n",
       "    </tr>\n",
       "    <tr>\n",
       "      <th>1246</th>\n",
       "      <td>Smart tips to reduce caregiver stress — here's...</td>\n",
       "      <td>Nearly 15% of caregivers reported having 14 or...</td>\n",
       "    </tr>\n",
       "    <tr>\n",
       "      <th>1247</th>\n",
       "      <td>Love that ‘new car smell’? Study says there ar...</td>\n",
       "      <td>‘Fox &amp; Friends Weekend’ co-hosts take a look a...</td>\n",
       "    </tr>\n",
       "    <tr>\n",
       "      <th>1248</th>\n",
       "      <td>ChatGPT and health care: Could the AI chatbot ...</td>\n",
       "      <td>Thomas Fuchs, the Dean of Artificial Intellige...</td>\n",
       "    </tr>\n",
       "  </tbody>\n",
       "</table>\n",
       "<p>1249 rows × 2 columns</p>\n",
       "</div>"
      ],
      "text/plain": [
       "                                                  Title   \n",
       "0     \\n      Russia’s shadowy energy trade is raisi...  \\\n",
       "1     \\n      China makes major push in its ambitiou...   \n",
       "2     \\n      ‘Too good to be true?’ As Shein and Te...   \n",
       "3     \\n      NBCUniversal CEO stepping down over ‘i...   \n",
       "4     \\n      What happens to buybuy BABY with Bed B...   \n",
       "...                                                 ...   \n",
       "1244  Massachusetts town says Avian Flu detected amo...   \n",
       "1245  The world lost faith in childhood vaccines dur...   \n",
       "1246  Smart tips to reduce caregiver stress — here's...   \n",
       "1247  Love that ‘new car smell’? Study says there ar...   \n",
       "1248  ChatGPT and health care: Could the AI chatbot ...   \n",
       "\n",
       "                                                Content  \n",
       "0     The waters of the Bay of Lakonikos, on the sou...  \n",
       "1     Public sector workers in an eastern Chinese ci...  \n",
       "2     Temu and Shein are taking off in the United St...  \n",
       "3     NBCUniversal CEO Jeff Shell is leaving the com...  \n",
       "4     America’s leading specialty baby products reta...  \n",
       "...                                                 ...  \n",
       "1244  Fox News Flash top headlines are here. Check o...  \n",
       "1245  Fox News Flash top headlines are here. Check o...  \n",
       "1246  Nearly 15% of caregivers reported having 14 or...  \n",
       "1247  ‘Fox & Friends Weekend’ co-hosts take a look a...  \n",
       "1248  Thomas Fuchs, the Dean of Artificial Intellige...  \n",
       "\n",
       "[1249 rows x 2 columns]"
      ]
     },
     "execution_count": 61,
     "metadata": {},
     "output_type": "execute_result"
    }
   ],
   "source": [
    "df = pd.read_excel('output-merged.xlsx')\n",
    "df = df[['Title', 'Content']]\n",
    "df"
   ]
  },
  {
   "cell_type": "code",
   "execution_count": 62,
   "id": "1e8c36a5",
   "metadata": {},
   "outputs": [],
   "source": [
    "df['Flesch Reading'] = 0\n",
    "for i, row in df.iterrows():\n",
    "    text = row['Content']  # replace 'text_column' with the name of the column containing the text\n",
    "    score = textstat.flesch_reading_ease(text)\n",
    "    df.loc[i, 'Flesch Reading'] = score"
   ]
  },
  {
   "cell_type": "code",
   "execution_count": 63,
   "id": "121047a8",
   "metadata": {},
   "outputs": [],
   "source": [
    "df['Flesch-Kincaid'] = 0\n",
    "for i, row in df.iterrows():\n",
    "    text = row['Content']  # replace 'text_column' with the name of the column containing the text\n",
    "    score = textstat.flesch_kincaid_grade(text)\n",
    "    df.loc[i, 'Flesch-Kincaid'] = score"
   ]
  },
  {
   "cell_type": "code",
   "execution_count": 64,
   "id": "a6d5f463",
   "metadata": {},
   "outputs": [],
   "source": [
    "df['Smog Index'] = 0\n",
    "for i, row in df.iterrows():\n",
    "    text = row['Content']  # replace 'text_column' with the name of the column containing the text\n",
    "    score = textstat.smog_index(text)\n",
    "    df.loc[i, 'Smog Index'] = score"
   ]
  },
  {
   "cell_type": "code",
   "execution_count": 65,
   "id": "05f0afe2",
   "metadata": {},
   "outputs": [],
   "source": [
    "df['Standard Score'] = 0\n",
    "for i, row in df.iterrows():\n",
    "    text = row['Content']  # replace 'text_column' with the name of the column containing the text\n",
    "    score = textstat.text_standard(text, float_output=False)\n",
    "    df.loc[i, 'Standard Score'] = score"
   ]
  },
  {
   "cell_type": "code",
   "execution_count": 66,
   "id": "894b1ca9",
   "metadata": {},
   "outputs": [
    {
     "data": {
      "text/html": [
       "<div>\n",
       "<style scoped>\n",
       "    .dataframe tbody tr th:only-of-type {\n",
       "        vertical-align: middle;\n",
       "    }\n",
       "\n",
       "    .dataframe tbody tr th {\n",
       "        vertical-align: top;\n",
       "    }\n",
       "\n",
       "    .dataframe thead th {\n",
       "        text-align: right;\n",
       "    }\n",
       "</style>\n",
       "<table border=\"1\" class=\"dataframe\">\n",
       "  <thead>\n",
       "    <tr style=\"text-align: right;\">\n",
       "      <th></th>\n",
       "      <th>Title</th>\n",
       "      <th>Content</th>\n",
       "      <th>Flesch Reading</th>\n",
       "      <th>Flesch-Kincaid</th>\n",
       "      <th>Smog Index</th>\n",
       "      <th>Standard Score</th>\n",
       "    </tr>\n",
       "  </thead>\n",
       "  <tbody>\n",
       "    <tr>\n",
       "      <th>0</th>\n",
       "      <td>\\n      Russia’s shadowy energy trade is raisi...</td>\n",
       "      <td>The waters of the Bay of Lakonikos, on the sou...</td>\n",
       "      <td>59.03</td>\n",
       "      <td>10.1</td>\n",
       "      <td>11.2</td>\n",
       "      <td>10th and 11th grade</td>\n",
       "    </tr>\n",
       "    <tr>\n",
       "      <th>1</th>\n",
       "      <td>\\n      China makes major push in its ambitiou...</td>\n",
       "      <td>Public sector workers in an eastern Chinese ci...</td>\n",
       "      <td>48.23</td>\n",
       "      <td>12.2</td>\n",
       "      <td>14.2</td>\n",
       "      <td>12th and 13th grade</td>\n",
       "    </tr>\n",
       "    <tr>\n",
       "      <th>2</th>\n",
       "      <td>\\n      ‘Too good to be true?’ As Shein and Te...</td>\n",
       "      <td>Temu and Shein are taking off in the United St...</td>\n",
       "      <td>51.28</td>\n",
       "      <td>11.1</td>\n",
       "      <td>13.3</td>\n",
       "      <td>11th and 12th grade</td>\n",
       "    </tr>\n",
       "    <tr>\n",
       "      <th>3</th>\n",
       "      <td>\\n      NBCUniversal CEO stepping down over ‘i...</td>\n",
       "      <td>NBCUniversal CEO Jeff Shell is leaving the com...</td>\n",
       "      <td>52.70</td>\n",
       "      <td>10.5</td>\n",
       "      <td>11.8</td>\n",
       "      <td>11th and 12th grade</td>\n",
       "    </tr>\n",
       "    <tr>\n",
       "      <th>4</th>\n",
       "      <td>\\n      What happens to buybuy BABY with Bed B...</td>\n",
       "      <td>America’s leading specialty baby products reta...</td>\n",
       "      <td>58.32</td>\n",
       "      <td>10.4</td>\n",
       "      <td>11.2</td>\n",
       "      <td>9th and 10th grade</td>\n",
       "    </tr>\n",
       "    <tr>\n",
       "      <th>...</th>\n",
       "      <td>...</td>\n",
       "      <td>...</td>\n",
       "      <td>...</td>\n",
       "      <td>...</td>\n",
       "      <td>...</td>\n",
       "      <td>...</td>\n",
       "    </tr>\n",
       "    <tr>\n",
       "      <th>1244</th>\n",
       "      <td>Massachusetts town says Avian Flu detected amo...</td>\n",
       "      <td>Fox News Flash top headlines are here. Check o...</td>\n",
       "      <td>58.01</td>\n",
       "      <td>10.5</td>\n",
       "      <td>12.6</td>\n",
       "      <td>12th and 13th grade</td>\n",
       "    </tr>\n",
       "    <tr>\n",
       "      <th>1245</th>\n",
       "      <td>The world lost faith in childhood vaccines dur...</td>\n",
       "      <td>Fox News Flash top headlines are here. Check o...</td>\n",
       "      <td>50.16</td>\n",
       "      <td>11.5</td>\n",
       "      <td>12.8</td>\n",
       "      <td>9th and 10th grade</td>\n",
       "    </tr>\n",
       "    <tr>\n",
       "      <th>1246</th>\n",
       "      <td>Smart tips to reduce caregiver stress — here's...</td>\n",
       "      <td>Nearly 15% of caregivers reported having 14 or...</td>\n",
       "      <td>56.15</td>\n",
       "      <td>9.2</td>\n",
       "      <td>11.2</td>\n",
       "      <td>9th and 10th grade</td>\n",
       "    </tr>\n",
       "    <tr>\n",
       "      <th>1247</th>\n",
       "      <td>Love that ‘new car smell’? Study says there ar...</td>\n",
       "      <td>‘Fox &amp; Friends Weekend’ co-hosts take a look a...</td>\n",
       "      <td>49.75</td>\n",
       "      <td>11.6</td>\n",
       "      <td>14.1</td>\n",
       "      <td>11th and 12th grade</td>\n",
       "    </tr>\n",
       "    <tr>\n",
       "      <th>1248</th>\n",
       "      <td>ChatGPT and health care: Could the AI chatbot ...</td>\n",
       "      <td>Thomas Fuchs, the Dean of Artificial Intellige...</td>\n",
       "      <td>48.54</td>\n",
       "      <td>12.1</td>\n",
       "      <td>14.3</td>\n",
       "      <td>12th and 13th grade</td>\n",
       "    </tr>\n",
       "  </tbody>\n",
       "</table>\n",
       "<p>1249 rows × 6 columns</p>\n",
       "</div>"
      ],
      "text/plain": [
       "                                                  Title   \n",
       "0     \\n      Russia’s shadowy energy trade is raisi...  \\\n",
       "1     \\n      China makes major push in its ambitiou...   \n",
       "2     \\n      ‘Too good to be true?’ As Shein and Te...   \n",
       "3     \\n      NBCUniversal CEO stepping down over ‘i...   \n",
       "4     \\n      What happens to buybuy BABY with Bed B...   \n",
       "...                                                 ...   \n",
       "1244  Massachusetts town says Avian Flu detected amo...   \n",
       "1245  The world lost faith in childhood vaccines dur...   \n",
       "1246  Smart tips to reduce caregiver stress — here's...   \n",
       "1247  Love that ‘new car smell’? Study says there ar...   \n",
       "1248  ChatGPT and health care: Could the AI chatbot ...   \n",
       "\n",
       "                                                Content  Flesch Reading   \n",
       "0     The waters of the Bay of Lakonikos, on the sou...           59.03  \\\n",
       "1     Public sector workers in an eastern Chinese ci...           48.23   \n",
       "2     Temu and Shein are taking off in the United St...           51.28   \n",
       "3     NBCUniversal CEO Jeff Shell is leaving the com...           52.70   \n",
       "4     America’s leading specialty baby products reta...           58.32   \n",
       "...                                                 ...             ...   \n",
       "1244  Fox News Flash top headlines are here. Check o...           58.01   \n",
       "1245  Fox News Flash top headlines are here. Check o...           50.16   \n",
       "1246  Nearly 15% of caregivers reported having 14 or...           56.15   \n",
       "1247  ‘Fox & Friends Weekend’ co-hosts take a look a...           49.75   \n",
       "1248  Thomas Fuchs, the Dean of Artificial Intellige...           48.54   \n",
       "\n",
       "      Flesch-Kincaid  Smog Index       Standard Score  \n",
       "0               10.1        11.2  10th and 11th grade  \n",
       "1               12.2        14.2  12th and 13th grade  \n",
       "2               11.1        13.3  11th and 12th grade  \n",
       "3               10.5        11.8  11th and 12th grade  \n",
       "4               10.4        11.2   9th and 10th grade  \n",
       "...              ...         ...                  ...  \n",
       "1244            10.5        12.6  12th and 13th grade  \n",
       "1245            11.5        12.8   9th and 10th grade  \n",
       "1246             9.2        11.2   9th and 10th grade  \n",
       "1247            11.6        14.1  11th and 12th grade  \n",
       "1248            12.1        14.3  12th and 13th grade  \n",
       "\n",
       "[1249 rows x 6 columns]"
      ]
     },
     "execution_count": 66,
     "metadata": {},
     "output_type": "execute_result"
    }
   ],
   "source": [
    "df"
   ]
  },
  {
   "attachments": {
    "image.png": {
     "image/png": "[encoded data removed]"
    }
   },
   "cell_type": "markdown",
   "id": "fe99377a",
   "metadata": {},
   "source": [
    "The table is an example of values. While the maximum score is 121.22, there is no limit on how low the score can be. A negative score is valid.\n",
    "![image.png](attachment:image.png)"
   ]
  },
  {
   "cell_type": "code",
   "execution_count": 67,
   "id": "50e286cc",
   "metadata": {
    "scrolled": false
   },
   "outputs": [
    {
     "data": {
      "text/plain": [
       "Text(0, 0.5, 'Frequency')"
      ]
     },
     "execution_count": 67,
     "metadata": {},
     "output_type": "execute_result"
    },
    {
     "data": {
      "image/png": "[encoded data removed]",
      "text/plain": [
       "<Figure size 640x480 with 1 Axes>"
      ]
     },
     "metadata": {},
     "output_type": "display_data"
    }
   ],
   "source": [
    "import matplotlib.pyplot as plt\n",
    "df['Flesch Reading'].hist()\n",
    "plt.title('Histogram of Flesch Reading')\n",
    "plt.xlabel('Flesch Reading')\n",
    "plt.ylabel('Frequency')"
   ]
  },
  {
   "cell_type": "code",
   "execution_count": 68,
   "id": "2ad032bc",
   "metadata": {},
   "outputs": [
    {
     "data": {
      "text/plain": [
       "Text(0, 0.5, 'Frequency')"
      ]
     },
     "execution_count": 68,
     "metadata": {},
     "output_type": "execute_result"
    },
    {
     "data": {
      "image/png": "[encoded data removed]",
      "text/plain": [
       "<Figure size 640x480 with 1 Axes>"
      ]
     },
     "metadata": {},
     "output_type": "display_data"
    }
   ],
   "source": [
    "df['Flesch-Kincaid'].hist()\n",
    "plt.title('Histogram of Flesch-Kincaid')\n",
    "plt.xlabel('Flesch-Kincaid')\n",
    "plt.ylabel('Frequency')\n",
    "\n",
    "# score of 10-12 means a 10th to 12th grader can read the articles"
   ]
  },
  {
   "cell_type": "code",
   "execution_count": 69,
   "id": "405d613e",
   "metadata": {},
   "outputs": [
    {
     "data": {
      "text/plain": [
       "Text(0, 0.5, 'Frequency')"
      ]
     },
     "execution_count": 69,
     "metadata": {},
     "output_type": "execute_result"
    },
    {
     "data": {
      "image/png": "[encoded data removed]",
      "text/plain": [
       "<Figure size 640x480 with 1 Axes>"
      ]
     },
     "metadata": {},
     "output_type": "display_data"
    }
   ],
   "source": [
    "df['Smog Index'].hist()\n",
    "plt.title('Histogram of Smog Index')\n",
    "plt.xlabel('Smog Index')\n",
    "plt.ylabel('Frequency')\n",
    "\n",
    "# smog index of 12.5 means a 12th grader could read the article"
   ]
  }
 ],
 "metadata": {
  "kernelspec": {
   "display_name": "Python 3 (ipykernel)",
   "language": "python",
   "name": "python3"
  },
  "language_info": {
   "codemirror_mode": {
    "name": "ipython",
    "version": 3
   },
   "file_extension": ".py",
   "mimetype": "text/x-python",
   "name": "python",
   "nbconvert_exporter": "python",
   "pygments_lexer": "ipython3",
   "version": "3.10.10"
  }
 },
 "nbformat": 4,
 "nbformat_minor": 5
}
